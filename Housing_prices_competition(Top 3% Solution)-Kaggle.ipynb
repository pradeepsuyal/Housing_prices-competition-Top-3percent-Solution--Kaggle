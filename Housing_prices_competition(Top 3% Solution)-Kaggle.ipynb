{
 "cells": [
  {
   "cell_type": "markdown",
   "id": "e55df30c",
   "metadata": {
    "papermill": {
     "duration": 0.018679,
     "end_time": "2021-08-16T05:57:55.658424",
     "exception": false,
     "start_time": "2021-08-16T05:57:55.639745",
     "status": "completed"
    },
    "tags": []
   },
   "source": [
    "### Setup"
   ]
  },
  {
   "cell_type": "code",
   "execution_count": 1,
   "id": "6b694973",
   "metadata": {
    "execution": {
     "iopub.execute_input": "2021-08-16T05:57:55.704437Z",
     "iopub.status.busy": "2021-08-16T05:57:55.703263Z",
     "iopub.status.idle": "2021-08-16T05:57:57.932093Z",
     "shell.execute_reply": "2021-08-16T05:57:57.932901Z",
     "shell.execute_reply.started": "2021-08-16T05:41:04.538048Z"
    },
    "papermill": {
     "duration": 2.253823,
     "end_time": "2021-08-16T05:57:57.933289",
     "exception": false,
     "start_time": "2021-08-16T05:57:55.679466",
     "status": "completed"
    },
    "tags": []
   },
   "outputs": [
    {
     "name": "stdout",
     "output_type": "stream",
     "text": [
      "Setup Complete\n"
     ]
    }
   ],
   "source": [
    "# Set up code checking\n",
    "import os\n",
    "if not os.path.exists(\"../input/train.csv\"):\n",
    "    os.symlink(\"../input/home-data-for-ml-course/train.csv\", \"../input/train.csv\")  \n",
    "    os.symlink(\"../input/home-data-for-ml-course/test.csv\", \"../input/test.csv\") \n",
    "from learntools.core import binder\n",
    "binder.bind(globals())\n",
    "from learntools.ml_intermediate.ex6 import *\n",
    "print(\"Setup Complete\")"
   ]
  },
  {
   "cell_type": "markdown",
   "id": "03ac7669",
   "metadata": {
    "papermill": {
     "duration": 0.015591,
     "end_time": "2021-08-16T05:57:57.968223",
     "exception": false,
     "start_time": "2021-08-16T05:57:57.952632",
     "status": "completed"
    },
    "tags": []
   },
   "source": [
    "working with the [Housing Prices Competition for Kaggle Learn Users](https://www.kaggle.com/c/home-data-for-ml-course) dataset. \n",
    "\n",
    "![Ames Housing dataset image](https://i.imgur.com/lTJVG4e.png)"
   ]
  },
  {
   "cell_type": "code",
   "execution_count": 2,
   "id": "31eddd43",
   "metadata": {
    "execution": {
     "iopub.execute_input": "2021-08-16T05:57:58.012022Z",
     "iopub.status.busy": "2021-08-16T05:57:58.010835Z",
     "iopub.status.idle": "2021-08-16T05:57:58.231377Z",
     "shell.execute_reply": "2021-08-16T05:57:58.230710Z",
     "shell.execute_reply.started": "2021-08-16T05:41:38.455435Z"
    },
    "papermill": {
     "duration": 0.247509,
     "end_time": "2021-08-16T05:57:58.231512",
     "exception": false,
     "start_time": "2021-08-16T05:57:57.984003",
     "status": "completed"
    },
    "tags": []
   },
   "outputs": [],
   "source": [
    "import pandas as pd\n",
    "from sklearn.model_selection import train_test_split\n",
    "\n",
    "# Read the data\n",
    "X = pd.read_csv('../input/train.csv', index_col='Id')\n",
    "X_test_full = pd.read_csv('../input/test.csv', index_col='Id')\n",
    "\n",
    "# Remove rows with missing target, separate target from predictors\n",
    "X.dropna(axis=0, subset=['SalePrice'], inplace=True)\n",
    "y = X.SalePrice              \n",
    "X.drop(['SalePrice'], axis=1, inplace=True)\n",
    "\n",
    "# Break off validation set from training data\n",
    "X_train_full, X_valid_full, y_train, y_valid = train_test_split(X, y, train_size=0.8, test_size=0.2,\n",
    "                                                                random_state=0)\n",
    "\n",
    "# \"Cardinality\" means the number of unique values in a column\n",
    "# Select categorical columns with relatively low cardinality (convenient but arbitrary)\n",
    "low_cardinality_cols = [cname for cname in X_train_full.columns if X_train_full[cname].nunique() < 10 and \n",
    "                        X_train_full[cname].dtype == \"object\"]\n",
    "\n",
    "# Select numeric columns\n",
    "numeric_cols = [cname for cname in X_train_full.columns if X_train_full[cname].dtype in ['int64', 'float64']]\n",
    "\n",
    "# Keep selected columns only\n",
    "my_cols = low_cardinality_cols + numeric_cols\n",
    "X_train = X_train_full[my_cols].copy()\n",
    "X_valid = X_valid_full[my_cols].copy()\n",
    "X_test = X_test_full[my_cols].copy()\n",
    "\n",
    "# One-hot encode the data (to shorten the code, we use pandas)\n",
    "X_train = pd.get_dummies(X_train)\n",
    "X_valid = pd.get_dummies(X_valid)\n",
    "X_test = pd.get_dummies(X_test)\n",
    "X_train, X_valid = X_train.align(X_valid, join='left', axis=1)\n",
    "X_train, X_test = X_train.align(X_test, join='left', axis=1)"
   ]
  },
  {
   "cell_type": "markdown",
   "id": "3f1a3feb",
   "metadata": {
    "papermill": {
     "duration": 0.015548,
     "end_time": "2021-08-16T05:57:58.262842",
     "exception": false,
     "start_time": "2021-08-16T05:57:58.247294",
     "status": "completed"
    },
    "tags": []
   },
   "source": [
    "### Build model\n",
    "\n",
    "### Part A\n",
    "\n",
    "In this step, we'll build and train your first model with gradient boosting."
   ]
  },
  {
   "cell_type": "code",
   "execution_count": 3,
   "id": "b6cc301f",
   "metadata": {
    "execution": {
     "iopub.execute_input": "2021-08-16T05:57:58.299887Z",
     "iopub.status.busy": "2021-08-16T05:57:58.299261Z",
     "iopub.status.idle": "2021-08-16T05:57:58.996109Z",
     "shell.execute_reply": "2021-08-16T05:57:58.995582Z",
     "shell.execute_reply.started": "2021-08-16T05:43:09.420635Z"
    },
    "papermill": {
     "duration": 0.717615,
     "end_time": "2021-08-16T05:57:58.996253",
     "exception": false,
     "start_time": "2021-08-16T05:57:58.278638",
     "status": "completed"
    },
    "tags": []
   },
   "outputs": [
    {
     "data": {
      "application/javascript": [
       "parent.postMessage({\"jupyterEvent\": \"custom.exercise_interaction\", \"data\": {\"outcomeType\": 1, \"valueTowardsCompletion\": 0.5, \"interactionType\": 1, \"questionType\": 2, \"questionId\": \"1.1_Model1A\", \"learnToolsVersion\": \"0.3.4\", \"failureMessage\": \"\", \"exceptionClass\": \"\", \"trace\": \"\"}}, \"*\")"
      ],
      "text/plain": [
       "<IPython.core.display.Javascript object>"
      ]
     },
     "metadata": {},
     "output_type": "display_data"
    },
    {
     "data": {
      "text/markdown": [
       "<span style=\"color:#33cc33\">Correct</span>"
      ],
      "text/plain": [
       "Correct"
      ]
     },
     "metadata": {},
     "output_type": "display_data"
    }
   ],
   "source": [
    "from xgboost import XGBRegressor\n",
    "\n",
    "# Define the model\n",
    "my_model_1 = XGBRegressor(random_state=0) \n",
    "\n",
    "# Fit the model\n",
    "my_model_1.fit(X_train, y_train) \n",
    "\n",
    "# Check your answer\n",
    "step_1.a.check()"
   ]
  },
  {
   "cell_type": "markdown",
   "id": "e3c10aa9",
   "metadata": {
    "papermill": {
     "duration": 0.018708,
     "end_time": "2021-08-16T05:57:59.076604",
     "exception": false,
     "start_time": "2021-08-16T05:57:59.057896",
     "status": "completed"
    },
    "tags": []
   },
   "source": [
    "### Part B\n",
    "\n",
    "Setting `predictions_1` to the model's predictions for the validation data."
   ]
  },
  {
   "cell_type": "code",
   "execution_count": 5,
   "id": "49c0face",
   "metadata": {
    "execution": {
     "iopub.execute_input": "2021-08-16T05:57:59.116065Z",
     "iopub.status.busy": "2021-08-16T05:57:59.115407Z",
     "iopub.status.idle": "2021-08-16T05:57:59.128187Z",
     "shell.execute_reply": "2021-08-16T05:57:59.128685Z",
     "shell.execute_reply.started": "2021-08-16T05:44:20.536032Z"
    },
    "papermill": {
     "duration": 0.035244,
     "end_time": "2021-08-16T05:57:59.128877",
     "exception": false,
     "start_time": "2021-08-16T05:57:59.093633",
     "status": "completed"
    },
    "tags": []
   },
   "outputs": [
    {
     "data": {
      "application/javascript": [
       "parent.postMessage({\"jupyterEvent\": \"custom.exercise_interaction\", \"data\": {\"outcomeType\": 1, \"valueTowardsCompletion\": 0.5, \"interactionType\": 1, \"questionType\": 2, \"questionId\": \"1.2_Model1B\", \"learnToolsVersion\": \"0.3.4\", \"failureMessage\": \"\", \"exceptionClass\": \"\", \"trace\": \"\"}}, \"*\")"
      ],
      "text/plain": [
       "<IPython.core.display.Javascript object>"
      ]
     },
     "metadata": {},
     "output_type": "display_data"
    },
    {
     "data": {
      "text/markdown": [
       "<span style=\"color:#33cc33\">Correct</span>"
      ],
      "text/plain": [
       "Correct"
      ]
     },
     "metadata": {},
     "output_type": "display_data"
    }
   ],
   "source": [
    "from sklearn.metrics import mean_absolute_error\n",
    "\n",
    "# Get predictions\n",
    "predictions_1 = my_model_1.predict(X_valid) \n",
    "\n",
    "# Check your answer\n",
    "step_1.b.check()"
   ]
  },
  {
   "cell_type": "markdown",
   "id": "a7bfc798",
   "metadata": {
    "papermill": {
     "duration": 0.017798,
     "end_time": "2021-08-16T05:57:59.207646",
     "exception": false,
     "start_time": "2021-08-16T05:57:59.189848",
     "status": "completed"
    },
    "tags": []
   },
   "source": [
    "### Part C\n",
    "\n",
    "using the `mean_absolute_error()` function to calculate the mean absolute error (MAE) corresponding to the predictions for the validation set."
   ]
  },
  {
   "cell_type": "code",
   "execution_count": 7,
   "id": "3a32a2a7",
   "metadata": {
    "execution": {
     "iopub.execute_input": "2021-08-16T05:57:59.250440Z",
     "iopub.status.busy": "2021-08-16T05:57:59.249705Z",
     "iopub.status.idle": "2021-08-16T05:57:59.256314Z",
     "shell.execute_reply": "2021-08-16T05:57:59.255772Z",
     "shell.execute_reply.started": "2021-08-16T05:45:21.321044Z"
    },
    "papermill": {
     "duration": 0.030783,
     "end_time": "2021-08-16T05:57:59.256446",
     "exception": false,
     "start_time": "2021-08-16T05:57:59.225663",
     "status": "completed"
    },
    "tags": []
   },
   "outputs": [
    {
     "name": "stdout",
     "output_type": "stream",
     "text": [
      "Mean Absolute Error: 17662.736729452055\n"
     ]
    },
    {
     "data": {
      "application/javascript": [
       "parent.postMessage({\"jupyterEvent\": \"custom.exercise_interaction\", \"data\": {\"outcomeType\": 1, \"valueTowardsCompletion\": 0.5, \"interactionType\": 1, \"questionType\": 2, \"questionId\": \"1.3_Model1C\", \"learnToolsVersion\": \"0.3.4\", \"failureMessage\": \"\", \"exceptionClass\": \"\", \"trace\": \"\"}}, \"*\")"
      ],
      "text/plain": [
       "<IPython.core.display.Javascript object>"
      ]
     },
     "metadata": {},
     "output_type": "display_data"
    },
    {
     "data": {
      "text/markdown": [
       "<span style=\"color:#33cc33\">Correct</span>"
      ],
      "text/plain": [
       "Correct"
      ]
     },
     "metadata": {},
     "output_type": "display_data"
    }
   ],
   "source": [
    "# Calculate MAE\n",
    "mae_1 = mean_absolute_error(predictions_1, y_valid) # Your code here\n",
    "\n",
    "# printing MAE\n",
    "print(\"Mean Absolute Error:\" , mae_1)\n",
    "\n",
    "# Check your answer\n",
    "step_1.c.check()"
   ]
  },
  {
   "cell_type": "markdown",
   "id": "adbd3ff9",
   "metadata": {
    "papermill": {
     "duration": 0.019382,
     "end_time": "2021-08-16T05:57:59.341860",
     "exception": false,
     "start_time": "2021-08-16T05:57:59.322478",
     "status": "completed"
    },
    "tags": []
   },
   "source": [
    "### Improving the model\n",
    "\n",
    "Now that we've trained a default model as baseline, it's time to tinker with the parameters, to see if you can get better performance!\n",
    "- Begining by setting `my_model_2` to an XGBoost model, using the [XGBRegressor](https://xgboost.readthedocs.io/en/latest/python/python_api.html#xgboost.XGBRegressor) class.  \n",
    "- Then, fit the model to the training data in `X_train` and `y_train`.\n",
    "- Setting `predictions_2` to the model's predictions for the validation data.\n",
    "- Finally, use the `mean_absolute_error()` function to calculate the mean absolute error (MAE) corresponding to the predictions on the validation set."
   ]
  },
  {
   "cell_type": "code",
   "execution_count": 9,
   "id": "e4581f64",
   "metadata": {
    "execution": {
     "iopub.execute_input": "2021-08-16T05:57:59.395563Z",
     "iopub.status.busy": "2021-08-16T05:57:59.391715Z",
     "iopub.status.idle": "2021-08-16T05:58:06.925287Z",
     "shell.execute_reply": "2021-08-16T05:58:06.924605Z",
     "shell.execute_reply.started": "2021-08-16T05:51:09.238724Z"
    },
    "papermill": {
     "duration": 7.564108,
     "end_time": "2021-08-16T05:58:06.925469",
     "exception": false,
     "start_time": "2021-08-16T05:57:59.361361",
     "status": "completed"
    },
    "tags": []
   },
   "outputs": [
    {
     "name": "stdout",
     "output_type": "stream",
     "text": [
      "Mean Absolute Error: 16688.691513270547\n"
     ]
    },
    {
     "data": {
      "application/javascript": [
       "parent.postMessage({\"jupyterEvent\": \"custom.exercise_interaction\", \"data\": {\"outcomeType\": 1, \"valueTowardsCompletion\": 0.5, \"interactionType\": 1, \"questionType\": 2, \"questionId\": \"2_Model2\", \"learnToolsVersion\": \"0.3.4\", \"failureMessage\": \"\", \"exceptionClass\": \"\", \"trace\": \"\"}}, \"*\")"
      ],
      "text/plain": [
       "<IPython.core.display.Javascript object>"
      ]
     },
     "metadata": {},
     "output_type": "display_data"
    },
    {
     "data": {
      "text/markdown": [
       "<span style=\"color:#33cc33\">Correct</span>"
      ],
      "text/plain": [
       "Correct"
      ]
     },
     "metadata": {},
     "output_type": "display_data"
    }
   ],
   "source": [
    "# Define the model\n",
    "my_model_2 = XGBRegressor(n_estimators=1000, learning_rate=0.05, n_jobs=-1)\n",
    "\n",
    "# Fit the model\n",
    "my_model_2.fit(X_train, y_train)\n",
    "\n",
    "# Get predictions\n",
    "predictions_2 = my_model_2.predict(X_valid) \n",
    "\n",
    "# Calculate MAE\n",
    "mae_2 = mean_absolute_error(predictions_2, y_valid)\n",
    "\n",
    "# printing MAE\n",
    "print(\"Mean Absolute Error:\" , mae_2)\n",
    "\n",
    "# Check your answer\n",
    "step_2.check()"
   ]
  },
  {
   "cell_type": "code",
   "execution_count": 10,
   "id": "55048512",
   "metadata": {
    "execution": {
     "iopub.execute_input": "2021-08-16T05:58:06.974630Z",
     "iopub.status.busy": "2021-08-16T05:58:06.973895Z",
     "iopub.status.idle": "2021-08-16T05:58:06.976889Z",
     "shell.execute_reply": "2021-08-16T05:58:06.976375Z"
    },
    "papermill": {
     "duration": 0.027533,
     "end_time": "2021-08-16T05:58:06.977049",
     "exception": false,
     "start_time": "2021-08-16T05:58:06.949516",
     "status": "completed"
    },
    "tags": []
   },
   "outputs": [],
   "source": [
    "# Lines below will give you a hint or solution code\n",
    "#step_2.hint()\n",
    "#step_2.solution()"
   ]
  },
  {
   "cell_type": "markdown",
   "id": "c540e918",
   "metadata": {
    "papermill": {
     "duration": 0.020549,
     "end_time": "2021-08-16T05:58:07.018823",
     "exception": false,
     "start_time": "2021-08-16T05:58:06.998274",
     "status": "completed"
    },
    "tags": []
   },
   "source": [
    "# Step 3: Break the model\n",
    "\n",
    "In this step, you will create a model that performs worse than the original model in Step 1.  This will help you to develop your intuition for how to set parameters.  You might even find that you accidentally get better performance, which is ultimately a nice problem to have and a valuable learning experience!\n",
    "- Begin by setting `my_model_3` to an XGBoost model, using the [XGBRegressor](https://xgboost.readthedocs.io/en/latest/python/python_api.html#xgboost.XGBRegressor) class.  Use what you learned in the previous tutorial to figure out how to change the default parameters (like `n_estimators` and `learning_rate`) to design a model to get high MAE.\n",
    "- Then, fit the model to the training data in `X_train` and `y_train`.\n",
    "- Set `predictions_3` to the model's predictions for the validation data.  Recall that the validation features are stored in `X_valid`.\n",
    "- Finally, using the `mean_absolute_error()` function to calculate the mean absolute error (MAE) corresponding to the predictions on the validation set.  Recall that the labels for the validation data are stored in `y_valid`.\n",
    "\n",
    "In order for this step to be marked correct, your model in `my_model_3` must attain higher MAE than the model in `my_model_1`. "
   ]
  },
  {
   "cell_type": "code",
   "execution_count": 11,
   "id": "7131ebc6",
   "metadata": {
    "execution": {
     "iopub.execute_input": "2021-08-16T05:58:07.071021Z",
     "iopub.status.busy": "2021-08-16T05:58:07.070349Z",
     "iopub.status.idle": "2021-08-16T05:58:07.315130Z",
     "shell.execute_reply": "2021-08-16T05:58:07.316209Z",
     "shell.execute_reply.started": "2021-08-16T05:55:14.449247Z"
    },
    "papermill": {
     "duration": 0.277077,
     "end_time": "2021-08-16T05:58:07.316431",
     "exception": false,
     "start_time": "2021-08-16T05:58:07.039354",
     "status": "completed"
    },
    "tags": []
   },
   "outputs": [
    {
     "name": "stdout",
     "output_type": "stream",
     "text": [
      "Mean Absolute Error: 22113.295269691782\n"
     ]
    },
    {
     "data": {
      "application/javascript": [
       "parent.postMessage({\"jupyterEvent\": \"custom.exercise_interaction\", \"data\": {\"outcomeType\": 1, \"valueTowardsCompletion\": 0.5, \"interactionType\": 1, \"questionType\": 2, \"questionId\": \"3_Model3\", \"learnToolsVersion\": \"0.3.4\", \"failureMessage\": \"\", \"exceptionClass\": \"\", \"trace\": \"\"}}, \"*\")"
      ],
      "text/plain": [
       "<IPython.core.display.Javascript object>"
      ]
     },
     "metadata": {},
     "output_type": "display_data"
    },
    {
     "data": {
      "text/markdown": [
       "<span style=\"color:#33cc33\">Correct</span>"
      ],
      "text/plain": [
       "Correct"
      ]
     },
     "metadata": {},
     "output_type": "display_data"
    }
   ],
   "source": [
    "# Define the model\n",
    "my_model_3 = XGBRegressor(n_estimators=30, learning_rate=0.7)\n",
    "\n",
    "# Fit the model\n",
    "my_model_3.fit(X_train, y_train) # Your code here\n",
    "\n",
    "# Get predictions\n",
    "predictions_3 = my_model_3.predict(X_valid)\n",
    "\n",
    "# Calculate MAE\n",
    "mae_3 = mean_absolute_error(predictions_3, y_valid)\n",
    "\n",
    "# Uncomment to print MAE\n",
    "print(\"Mean Absolute Error:\" , mae_3)\n",
    "\n",
    "# Check your answer\n",
    "step_3.check()"
   ]
  },
  {
   "cell_type": "code",
   "execution_count": 13,
   "id": "6d42273e",
   "metadata": {
    "execution": {
     "iopub.execute_input": "2021-08-16T05:58:07.418203Z",
     "iopub.status.busy": "2021-08-16T05:58:07.417522Z",
     "iopub.status.idle": "2021-08-16T05:58:07.456987Z",
     "shell.execute_reply": "2021-08-16T05:58:07.457642Z",
     "shell.execute_reply.started": "2021-08-16T05:57:31.689334Z"
    },
    "papermill": {
     "duration": 0.067394,
     "end_time": "2021-08-16T05:58:07.457869",
     "exception": false,
     "start_time": "2021-08-16T05:58:07.390475",
     "status": "completed"
    },
    "tags": []
   },
   "outputs": [],
   "source": [
    "preds_test = my_model_2.predict(X_test)\n",
    "\n",
    "output = pd.DataFrame({'Id': X_test.index,\n",
    "                       'SalePrice': preds_test})\n",
    "output.to_csv('submission.csv', index=False)"
   ]
  }
 ],
 "metadata": {
  "kernelspec": {
   "display_name": "Python 3",
   "language": "python",
   "name": "python3"
  },
  "language_info": {
   "codemirror_mode": {
    "name": "ipython",
    "version": 3
   },
   "file_extension": ".py",
   "mimetype": "text/x-python",
   "name": "python",
   "nbconvert_exporter": "python",
   "pygments_lexer": "ipython3",
   "version": "3.8.8"
  },
  "papermill": {
   "default_parameters": {},
   "duration": 20.552508,
   "end_time": "2021-08-16T05:58:08.278303",
   "environment_variables": {},
   "exception": null,
   "input_path": "__notebook__.ipynb",
   "output_path": "__notebook__.ipynb",
   "parameters": {},
   "start_time": "2021-08-16T05:57:47.725795",
   "version": "2.3.3"
  }
 },
 "nbformat": 4,
 "nbformat_minor": 5
}
